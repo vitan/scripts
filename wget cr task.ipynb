{
 "metadata": {
  "name": ""
 },
 "nbformat": 3,
 "nbformat_minor": 0,
 "worksheets": [
  {
   "cells": [
    {
     "cell_type": "code",
     "collapsed": false,
     "input": [
      "from BeautifulSoup import BeautifulSoup\n",
      "from os import system\n",
      "\n",
      "with open('/home/weizhou/Projects/scripts/input/task/cr', 'r') as inf:\n",
      "    content = inf.read()\n",
      "\n",
      "pre = \"https://docs.engineering.redhat.com\""
     ],
     "language": "python",
     "metadata": {},
     "outputs": [],
     "prompt_number": 17
    },
    {
     "cell_type": "code",
     "collapsed": false,
     "input": [
      "soup = BeautifulSoup(content)\n",
      "for item in soup.findAll('a'):\n",
      "    system('cd input/cache; wget ' + pre+item['href'] +' --no-check-certificate')"
     ],
     "language": "python",
     "metadata": {},
     "outputs": [],
     "prompt_number": 18
    }
   ],
   "metadata": {}
  }
 ]
}