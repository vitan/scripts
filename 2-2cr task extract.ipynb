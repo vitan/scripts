{
 "metadata": {
  "name": ""
 },
 "nbformat": 3,
 "nbformat_minor": 0,
 "worksheets": [
  {
   "cells": [
    {
     "cell_type": "code",
     "collapsed": false,
     "input": [
      "import os\n",
      "from BeautifulSoup import BeautifulSoup\n",
      "import re\n",
      "\n",
      "cr = open('/home/weizhou/Projects/scripts/input/service/cr', 'r')\n",
      "top_dir = '/home/weizhou/Projects/scripts/input/cache/'\n",
      "\n",
      "pre = 'https://docs.engineering.redhat.com/display/KB/'\n",
      "\n",
      "service_code_reg = re.compile(r'(FS|CR|LB)-[\\d]{3}-[\\d]{2}-[\\d]{3}-v[\\d]{1}')\n",
      "\n",
      "#1\tEngineering Operations - CORE\n",
      "#2\tEngineering Operations - LAB\n",
      "#3\tEngineering Operations - FLS\n",
      "team_dict = {'CR': '1',\n",
      "             'LB': '2',\n",
      "             'FS': '3',\n",
      "             'CA': '4',\n",
      "             'SA': '5',\n",
      "             'SE': '6',\n",
      "             }"
     ],
     "language": "python",
     "metadata": {},
     "outputs": [],
     "prompt_number": 47
    },
    {
     "cell_type": "code",
     "collapsed": false,
     "input": [
      "cr_service_dict = dict()\n",
      "#cr service process\n",
      "cr_content = cr.read()\n",
      "cr_soup = BeautifulSoup(cr_content)\n",
      "for cr_table in cr_soup.findAll('div', 'table-wrap'):\n",
      "    trs = cr_table.table.tbody.findAll('tr')\n",
      "    #skip first 2lines\n",
      "    trs = trs[2:]\n",
      "    for tr in trs:\n",
      "        if tr.contents[0].string:\n",
      "            if tr.contents[0].string == u'&nbsp;':\n",
      "                continue\n",
      "            code = tr.contents[0].string.strip()\n",
      "            service_name = tr.contents[1].a.contents[0].strip()\n",
      "        elif tr.contents[0].strong:\n",
      "            code = tr.contents[0].strong.string.strip()\n",
      "            service_name = tr.contents[1].strong.a.contents[0].strip()\n",
      "        elif tr.contents[0].p:\n",
      "            code = tr.contents[0].p.string.strip()    \n",
      "            service_name = tr.contents[1].p.a.contents[0].strip()\n",
      "        else:\n",
      "            continue\n",
      "\n",
      "        cr_service_dict[code.split('-')[1]] = service_name"
     ],
     "language": "python",
     "metadata": {},
     "outputs": [],
     "prompt_number": 48
    },
    {
     "cell_type": "code",
     "collapsed": false,
     "input": [
      "code_dict = dict()"
     ],
     "language": "python",
     "metadata": {},
     "outputs": [],
     "prompt_number": 49
    },
    {
     "cell_type": "code",
     "collapsed": false,
     "input": [
      "def extract_code(html_file, file_name):\n",
      "    with open(html_file) as inf:\n",
      "        content = inf.read()\n",
      "        \n",
      "    soup = BeautifulSoup(content)\n",
      "    data = soup.find('h3', text='Breakdown of tasks performed')\n",
      "    if data:\n",
      "        data = data.parent.nextSibling\n",
      "        while data:\n",
      "            if data.table:\n",
      "                break\n",
      "            data = data.nextSibling\n",
      "        \n",
      "        data = data.table\n",
      "        if not data:\n",
      "            print '%s%s has no service code' % (pre, file_name)\n",
      "            return\n",
      "\n",
      "        data =data.findAll('tr')\n",
      "        if len(data) <= 1:\n",
      "            print '%s%s has no service code' % (pre, file_name)\n",
      "            return\n",
      "    \n",
      "        for tr in data[1:]:\n",
      "            tds = tr.findAll('td')[0:2]\n",
      "            code_list = getattr(tds[0], 'text', None).split('-')\n",
      "            if len(code_list) >= 4:\n",
      "\n",
      "                if code_list[1] == 'SSS':\n",
      "                    print \"CODE ERROR:\", getattr(tds[0], 'text', None), ' FROM ', pre+file_name\n",
      "                    continue\n",
      "                if cr_service_dict.has_key(code_list[1]) is False:\n",
      "                    continue\n",
      "                code_dict[getattr(tds[0], 'text', None)] = [getattr(tds[0], 'text', None),\n",
      "                                                            cr_service_dict[code_list[1]],\n",
      "                                                            team_dict[code_list[0]],\n",
      "                                                            code_list[3],\n",
      "                                                            getattr(tds[1], 'text', None),\n",
      "                                                            ]\n",
      "            else:\n",
      "                print \"CODE ERROR:\", getattr(tds[0], 'text', None), ' FROM ', pre+file_name\n",
      "    else:\n",
      "        print '%s%s has no service code' % (pre, file_name)"
     ],
     "language": "python",
     "metadata": {},
     "outputs": [],
     "prompt_number": 50
    },
    {
     "cell_type": "code",
     "collapsed": false,
     "input": [
      "for dir_path,subpaths,files in os.walk(top_dir,False):\n",
      "    for file in files:\n",
      "        file_path=os.path.join(dir_path,file)\n",
      "        print \"Start to process FILE: %s\" % file\n",
      "        extract_code(file_path, file)\n",
      "        print \"End!\""
     ],
     "language": "python",
     "metadata": {},
     "outputs": [
      {
       "output_type": "stream",
       "stream": "stdout",
       "text": [
        "Start to process FILE: rpmdiff\n",
        "CODE ERROR:"
       ]
      },
      {
       "output_type": "stream",
       "stream": "stdout",
       "text": [
        " GG-SSS-TT-MMM-Vx  FROM  https://docs.engineering.redhat.com/display/KB/rpmdiff\n",
        "End!\n",
        "Start to process FILE: MWC+Build+Tracker\n",
        "CODE ERROR:"
       ]
      },
      {
       "output_type": "stream",
       "stream": "stdout",
       "text": [
        " GG-SSS-TT-MMM-Vx  FROM  https://docs.engineering.redhat.com/display/KB/MWC+Build+Tracker\n",
        "End!\n",
        "Start to process FILE: viewpage.action?pageId=11370551\n",
        "End!"
       ]
      },
      {
       "output_type": "stream",
       "stream": "stdout",
       "text": [
        "\n",
        "Start to process FILE: HSS+Confluence\n",
        "End!"
       ]
      },
      {
       "output_type": "stream",
       "stream": "stdout",
       "text": [
        "\n",
        "Start to process FILE: HTTP+Proxy\n",
        "End!"
       ]
      },
      {
       "output_type": "stream",
       "stream": "stdout",
       "text": [
        "\n",
        "Start to process FILE: HSS+Portal\n",
        "End!"
       ]
      },
      {
       "output_type": "stream",
       "stream": "stdout",
       "text": [
        "\n",
        "Start to process FILE: Front+Line+Support+Service+Catalog\n",
        "https://docs.engineering.redhat.com/display/KB/Front+Line+Support+Service+Catalog has no service code"
       ]
      },
      {
       "output_type": "stream",
       "stream": "stdout",
       "text": [
        "\n",
        "End!\n",
        "Start to process FILE: Treasury\n",
        "End!"
       ]
      },
      {
       "output_type": "stream",
       "stream": "stdout",
       "text": [
        "\n",
        "Start to process FILE: SVN\n",
        "End!"
       ]
      },
      {
       "output_type": "stream",
       "stream": "stdout",
       "text": [
        "\n",
        "Start to process FILE: viewpage.action?pageId=15502269\n",
        "CODE ERROR:"
       ]
      },
      {
       "output_type": "stream",
       "stream": "stdout",
       "text": [
        " CISSSSTT  FROM  https://docs.engineering.redhat.com/display/KB/viewpage.action?pageId=15502269\n",
        "End!\n",
        "Start to process FILE: qpid\n",
        "End!"
       ]
      },
      {
       "output_type": "stream",
       "stream": "stdout",
       "text": [
        "\n",
        "Start to process FILE: Cfengine\n",
        "End!"
       ]
      },
      {
       "output_type": "stream",
       "stream": "stdout",
       "text": [
        "\n",
        "Start to process FILE: HSS+Jira\n",
        "End!"
       ]
      },
      {
       "output_type": "stream",
       "stream": "stdout",
       "text": [
        "\n",
        "Start to process FILE: VM+Hosting\n",
        "End!"
       ]
      },
      {
       "output_type": "stream",
       "stream": "stdout",
       "text": [
        "\n",
        "Start to process FILE: HssPulp\n",
        "CODE ERROR:"
       ]
      },
      {
       "output_type": "stream",
       "stream": "stdout",
       "text": [
        " GG-SSS-TT-MMM-Vx  FROM  https://docs.engineering.redhat.com/display/KB/HssPulp\n",
        "End!\n",
        "Start to process FILE: Laboratory+Engineering+Service+Catalog\n",
        "https://docs.engineering.redhat.com/display/KB/Laboratory+Engineering+Service+Catalog has no service code"
       ]
      },
      {
       "output_type": "stream",
       "stream": "stdout",
       "text": [
        "\n",
        "End!\n",
        "Start to process FILE: Package+Wrangler\n",
        "End!"
       ]
      },
      {
       "output_type": "stream",
       "stream": "stdout",
       "text": [
        "\n",
        "Start to process FILE: MW+QE+Jenkins\n",
        "End!"
       ]
      },
      {
       "output_type": "stream",
       "stream": "stdout",
       "text": [
        "\n",
        "Start to process FILE: engops+ssl+signing+server\n",
        "CODE ERROR:"
       ]
      },
      {
       "output_type": "stream",
       "stream": "stdout",
       "text": [
        " GG-SSS-TT-MMM-Vx  FROM  https://docs.engineering.redhat.com/display/KB/engops+ssl+signing+server\n",
        "End!\n",
        "Start to process FILE: Yum+repositories\n",
        "End!"
       ]
      },
      {
       "output_type": "stream",
       "stream": "stdout",
       "text": [
        "\n",
        "Start to process FILE: Conflux\n",
        "https://docs.engineering.redhat.com/display/KB/Conflux has no service code"
       ]
      },
      {
       "output_type": "stream",
       "stream": "stdout",
       "text": [
        "\n",
        "End!\n",
        "Start to process FILE: Nagios\n",
        "End!"
       ]
      },
      {
       "output_type": "stream",
       "stream": "stdout",
       "text": [
        "\n",
        "Start to process FILE: viewpage.action?pageId=15502614\n",
        "End!"
       ]
      },
      {
       "output_type": "stream",
       "stream": "stdout",
       "text": [
        "\n",
        "Start to process FILE: Errata+Tool\n",
        "End!"
       ]
      },
      {
       "output_type": "stream",
       "stream": "stdout",
       "text": [
        "\n",
        "Start to process FILE: Cantas\n",
        "End!"
       ]
      },
      {
       "output_type": "stream",
       "stream": "stdout",
       "text": [
        "\n",
        "Start to process FILE: Beaker\n",
        "End!"
       ]
      },
      {
       "output_type": "stream",
       "stream": "stdout",
       "text": [
        "\n",
        "Start to process FILE: MWC+Proxy\n",
        "End!"
       ]
      },
      {
       "output_type": "stream",
       "stream": "stdout",
       "text": [
        "\n",
        "Start to process FILE: Shell+Servers\n",
        "End!"
       ]
      },
      {
       "output_type": "stream",
       "stream": "stdout",
       "text": [
        "\n",
        "Start to process FILE: GlobalSync+Service+Definition\n",
        "End!"
       ]
      },
      {
       "output_type": "stream",
       "stream": "stdout",
       "text": [
        "\n",
        "Start to process FILE: RHEV\n",
        "End!"
       ]
      },
      {
       "output_type": "stream",
       "stream": "stdout",
       "text": [
        "\n",
        "Start to process FILE: RHCS+HA+clusters\n",
        "End!"
       ]
      },
      {
       "output_type": "stream",
       "stream": "stdout",
       "text": [
        "\n",
        "Start to process FILE: Harvester+aka+Dataservice\n",
        "End!"
       ]
      },
      {
       "output_type": "stream",
       "stream": "stdout",
       "text": [
        "\n",
        "Start to process FILE: QE+wiki\n",
        "End!"
       ]
      },
      {
       "output_type": "stream",
       "stream": "stdout",
       "text": [
        "\n",
        "Start to process FILE: MWC+GIT\n",
        "End!"
       ]
      },
      {
       "output_type": "stream",
       "stream": "stdout",
       "text": [
        "\n",
        "Start to process FILE: Pride\n",
        "End!"
       ]
      },
      {
       "output_type": "stream",
       "stream": "stdout",
       "text": [
        "\n",
        "Start to process FILE: Stable+Systems\n",
        "End!"
       ]
      },
      {
       "output_type": "stream",
       "stream": "stdout",
       "text": [
        "\n",
        "Start to process FILE: viewpage.action?pageId=23462892\n",
        "End!"
       ]
      },
      {
       "output_type": "stream",
       "stream": "stdout",
       "text": [
        "\n",
        "Start to process FILE: index.html\n",
        "https://docs.engineering.redhat.com/display/KB/index.html has no service code"
       ]
      },
      {
       "output_type": "stream",
       "stream": "stdout",
       "text": [
        "\n",
        "End!\n",
        "Start to process FILE: BRQ+Office+wiki\n",
        "End!"
       ]
      },
      {
       "output_type": "stream",
       "stream": "stdout",
       "text": [
        "\n",
        "Start to process FILE: MWC+Mailman\n",
        "End!"
       ]
      },
      {
       "output_type": "stream",
       "stream": "stdout",
       "text": [
        "\n",
        "Start to process FILE: Production+Databases\n",
        "End!"
       ]
      },
      {
       "output_type": "stream",
       "stream": "stdout",
       "text": [
        "\n",
        "Start to process FILE: viewpage.action?pageId=15502244\n",
        "CODE ERROR:"
       ]
      },
      {
       "output_type": "stream",
       "stream": "stdout",
       "text": [
        " CR-009-01  FROM  https://docs.engineering.redhat.com/display/KB/viewpage.action?pageId=15502244\n",
        "End!\n",
        "Start to process FILE: viewpage.action?pageId=15500609\n",
        "End!"
       ]
      },
      {
       "output_type": "stream",
       "stream": "stdout",
       "text": [
        "\n",
        "Start to process FILE: viewpage.action?pageId=15502259\n",
        "End!"
       ]
      },
      {
       "output_type": "stream",
       "stream": "stdout",
       "text": [
        "\n",
        "Start to process FILE: Nexus\n",
        "End!"
       ]
      },
      {
       "output_type": "stream",
       "stream": "stdout",
       "text": [
        "\n",
        "Start to process FILE: MWC+Feeds\n",
        "End!"
       ]
      },
      {
       "output_type": "stream",
       "stream": "stdout",
       "text": [
        "\n",
        "Start to process FILE: Zanata\n",
        "End!"
       ]
      },
      {
       "output_type": "stream",
       "stream": "stdout",
       "text": [
        "\n",
        "Start to process FILE: Twoface\n",
        "End!"
       ]
      },
      {
       "output_type": "stream",
       "stream": "stdout",
       "text": [
        "\n",
        "Start to process FILE: OrgChart\n",
        "End!"
       ]
      },
      {
       "output_type": "stream",
       "stream": "stdout",
       "text": [
        "\n",
        "Start to process FILE: MWC+Magnolia\n",
        "End!"
       ]
      },
      {
       "output_type": "stream",
       "stream": "stdout",
       "text": [
        "\n",
        "Start to process FILE: DNS\n",
        "End!"
       ]
      },
      {
       "output_type": "stream",
       "stream": "stdout",
       "text": [
        "\n",
        "Start to process FILE: CI-RHEV\n",
        "End!"
       ]
      },
      {
       "output_type": "stream",
       "stream": "stdout",
       "text": [
        "\n",
        "Start to process FILE: IRC\n",
        "End!"
       ]
      },
      {
       "output_type": "stream",
       "stream": "stdout",
       "text": [
        "\n",
        "Start to process FILE: MWC+Kryten\n",
        "End!"
       ]
      },
      {
       "output_type": "stream",
       "stream": "stdout",
       "text": [
        "\n",
        "Start to process FILE: Dist+GIT\n",
        "End!"
       ]
      },
      {
       "output_type": "stream",
       "stream": "stdout",
       "text": [
        "\n",
        "Start to process FILE: download+and+rsyncd\n",
        "CODE ERROR:"
       ]
      },
      {
       "output_type": "stream",
       "stream": "stdout",
       "text": [
        " GG-SSS-TT-MMM-Vx  FROM  https://docs.engineering.redhat.com/display/KB/download+and+rsyncd\n",
        "End!\n",
        "Start to process FILE: TRAC\n",
        "End!"
       ]
      },
      {
       "output_type": "stream",
       "stream": "stdout",
       "text": [
        "\n",
        "Start to process FILE: Maitai\n",
        "End!"
       ]
      },
      {
       "output_type": "stream",
       "stream": "stdout",
       "text": [
        "\n",
        "Start to process FILE: MWC+Filemgmt\n",
        "End!"
       ]
      },
      {
       "output_type": "stream",
       "stream": "stdout",
       "text": [
        "\n",
        "Start to process FILE: viewpage.action?pageId=15502610\n",
        "End!"
       ]
      },
      {
       "output_type": "stream",
       "stream": "stdout",
       "text": [
        "\n",
        "Start to process FILE: viewpage.action?pageId=15502624\n",
        "End!"
       ]
      },
      {
       "output_type": "stream",
       "stream": "stdout",
       "text": [
        "\n",
        "Start to process FILE: MWC+Puppet\n",
        "End!"
       ]
      },
      {
       "output_type": "stream",
       "stream": "stdout",
       "text": [
        "\n",
        "Start to process FILE: MWC+SMTP\n",
        "https://docs.engineering.redhat.com/display/KB/MWC+SMTP has no service code"
       ]
      },
      {
       "output_type": "stream",
       "stream": "stdout",
       "text": [
        "\n",
        "End!\n",
        "Start to process FILE: Request+Tracker+-+RT\n",
        "End!"
       ]
      },
      {
       "output_type": "stream",
       "stream": "stdout",
       "text": [
        "\n",
        "Start to process FILE: VirtualDB\n",
        "CODE ERROR:"
       ]
      },
      {
       "output_type": "stream",
       "stream": "stdout",
       "text": [
        "   FROM  https://docs.engineering.redhat.com/display/KB/VirtualDB\n",
        "End!\n",
        "Start to process FILE: TCMS\n",
        "End!"
       ]
      },
      {
       "output_type": "stream",
       "stream": "stdout",
       "text": [
        "\n",
        "Start to process FILE: MW+QE+Netapp\n",
        "End!"
       ]
      },
      {
       "output_type": "stream",
       "stream": "stdout",
       "text": [
        "\n",
        "Start to process FILE: RH+Bugzilla\n",
        "End!"
       ]
      },
      {
       "output_type": "stream",
       "stream": "stdout",
       "text": [
        "\n",
        "Start to process FILE: Vault\n",
        "End!"
       ]
      },
      {
       "output_type": "stream",
       "stream": "stdout",
       "text": [
        "\n",
        "Start to process FILE: viewpage.action?pageId=15501183\n",
        "End!"
       ]
      },
      {
       "output_type": "stream",
       "stream": "stdout",
       "text": [
        "\n",
        "Start to process FILE: viewpage.action?pageId=15501188\n",
        "End!"
       ]
      },
      {
       "output_type": "stream",
       "stream": "stdout",
       "text": [
        "\n",
        "Start to process FILE: viewpage.action?pageId=15502622\n",
        "End!"
       ]
      },
      {
       "output_type": "stream",
       "stream": "stdout",
       "text": [
        "\n",
        "Start to process FILE: Compose\n",
        "End!"
       ]
      },
      {
       "output_type": "stream",
       "stream": "stdout",
       "text": [
        "\n",
        "Start to process FILE: viewpage.action?pageId=15501238\n",
        "End!"
       ]
      },
      {
       "output_type": "stream",
       "stream": "stdout",
       "text": [
        "\n",
        "Start to process FILE: MWC+A-MQ\n",
        "End!"
       ]
      },
      {
       "output_type": "stream",
       "stream": "stdout",
       "text": [
        "\n",
        "Start to process FILE: viewpage.action?pageId=15502241\n",
        "End!"
       ]
      },
      {
       "output_type": "stream",
       "stream": "stdout",
       "text": [
        "\n",
        "Start to process FILE: viewpage.action?pageId=15502261\n",
        "End!"
       ]
      },
      {
       "output_type": "stream",
       "stream": "stdout",
       "text": [
        "\n",
        "Start to process FILE: MWC+SVN\n",
        "End!"
       ]
      },
      {
       "output_type": "stream",
       "stream": "stdout",
       "text": [
        "\n",
        "Start to process FILE: MWC+Fisheye\n",
        "End!"
       ]
      },
      {
       "output_type": "stream",
       "stream": "stdout",
       "text": [
        "\n",
        "Start to process FILE: Netapp\n",
        "End!"
       ]
      },
      {
       "output_type": "stream",
       "stream": "stdout",
       "text": [
        "\n",
        "Start to process FILE: MWC+MySQL+Database\n",
        "End!"
       ]
      },
      {
       "output_type": "stream",
       "stream": "stdout",
       "text": [
        "\n",
        "Start to process FILE: MWC+Jira\n",
        "End!"
       ]
      },
      {
       "output_type": "stream",
       "stream": "stdout",
       "text": [
        "\n",
        "Start to process FILE: Bugzilla+Metrics+and+bugbot\n",
        "End!"
       ]
      },
      {
       "output_type": "stream",
       "stream": "stdout",
       "text": [
        "\n"
       ]
      }
     ],
     "prompt_number": 51
    },
    {
     "cell_type": "code",
     "collapsed": false,
     "input": [
      "outf = open('/home/weizhou/Projects/scripts/output/cr', 'w')\n",
      "result_list = [u'|'.join(item) for item in code_dict.values()]\n",
      "outf.write(u'\\n'.join(result_list).encode('utf8'))\n",
      "cr.close()\n",
      "outf.close()"
     ],
     "language": "python",
     "metadata": {},
     "outputs": [],
     "prompt_number": 59
    }
   ],
   "metadata": {}
  }
 ]
}