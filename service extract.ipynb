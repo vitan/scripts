{
 "metadata": {
  "name": ""
 },
 "nbformat": 3,
 "nbformat_minor": 0,
 "worksheets": [
  {
   "cells": [
    {
     "cell_type": "code",
     "collapsed": false,
     "input": [
      "import re\n",
      "import Levenshtein\n",
      "from BeautifulSoup import BeautifulSoup\n",
      "\n",
      "fls_1 = open('/home/weizhou/Projects/scripts/input/service/fls-service-slice-1', 'r')\n",
      "fls_2 = open('/home/weizhou/Projects/scripts/input/service/fls-service-slice-2', 'r')\n",
      "cr = open('/home/weizhou/Projects/scripts/input/service/cr', 'r')\n",
      "lb = open('/home/weizhou/Projects/scripts/input/service/lb', 'r')\n",
      "\n",
      "outf = open('/home/weizhou/Projects/scripts/output/service', 'w')\n",
      "\n",
      "files = [fls_1,\n",
      "         fls_2,\n",
      "         cr,\n",
      "         lb,\n",
      "         outf\n",
      "         ]"
     ],
     "language": "python",
     "metadata": {},
     "outputs": [],
     "prompt_number": 85
    },
    {
     "cell_type": "code",
     "collapsed": false,
     "input": [
      "#\n",
      "#Get all the Service\n",
      "#\n",
      "service = set()\n",
      "\n",
      "# FLS service process 1\n",
      "for line in fls_1:\n",
      "    row_list = line.split(' | ')\n",
      "    # cleaned the boring noisy data\n",
      "    row_list = row_list[1:-1]\n",
      "    service.update([fls_item.strip() for fls_item in row_list])\n",
      "        \n",
      "# FLS service process 2\n",
      "fls_2_content = fls_2.read()\n",
      "fls_2_soup = BeautifulSoup(fls_2_content)\n",
      "for line in fls_2_soup.findAll('tr'):\n",
      "    td_content = line.td.contents[0].strip()\n",
      "    if td_content != '&nbsp;':\n",
      "        service.add(td_content)\n",
      "\n",
      "#cr service process\n",
      "cr_content = cr.read()\n",
      "cr_soup = BeautifulSoup(cr_content)\n",
      "for cr_table in cr_soup.findAll('div', 'table-wrap'):\n",
      "    trs = cr_table.table.tbody.findAll('tr')\n",
      "    #skip first 2lines\n",
      "    trs = trs[2:]\n",
      "    for tr in trs:\n",
      "       service.add(tr.contents[1].a.contents[0])\n",
      "\n",
      "        \n",
      "#lb service process\n",
      "for line in lb:\n",
      "    row_list = line.split('\\t')\n",
      "    #LB table format\n",
      "    #Service ID \\t Service Name\n",
      "    #As some boring dirty data, cleaned the data manully in advance.\n",
      "    if len(row_list) is not 2:\n",
      "        raise Exception('ERROR FORMAT', line)\n",
      "    if row_list[0].strip():\n",
      "        service.add(row_list[1].strip())\n",
      "\n",
      "service = [[0, item] for item in service]\n",
      "length = len(service)\n",
      "\n",
      "for i in xrange(0, length-1):\n",
      "    if service[i][0] is 1:\n",
      "        continue\n",
      "    for j in xrange(i+1, length):\n",
      "        if Levenshtein.ratio(service[i][1], service[j][1]) > 0.7:\n",
      "            service[i][1] = \"%s , %s\" % (service[i][1], service[j][1])\n",
      "            service[j][0] = 1\n",
      "            break\n",
      "\n",
      "result = [item[1] for item in service if item[0] is 0]\n",
      "\n",
      "deleted_map = {'Confluence , HSS Confluence': 'Confluence/Documentation',\n",
      "               'PP (Product Pages)': 'PP',\n",
      "               'JIRA': 'HSS Jira',\n",
      "               'GIT/Gerrit': 'Gerrit/Git',\n",
      "               }\n",
      "\n",
      "for key, value in deleted_map.iteritems():\n",
      "    result.remove(key)\n",
      "    result.remove(value)\n",
      "    result.append('%s , %s' % (key, value))\n",
      "\n",
      "result.remove('reserved')\n",
      "\n",
      "count = xrange(0, len(result))\n",
      "id_service = [\"|%s|%s|\" % (key+1, ' , '.join(map(lambda x: '[KB:'+x+']', value.split(' , ')))) for (key, value) in zip(count, result)]\n",
      "outf.write(str('\\n'.join(id_service)))"
     ],
     "language": "python",
     "metadata": {
      "slideshow": {
       "slide_type": "-"
      }
     },
     "outputs": [
      {
       "ename": "TypeError",
       "evalue": "ratio expected two Strings or two Unicodes",
       "output_type": "pyerr",
       "traceback": [
        "\u001b[1;31m---------------------------------------------------------------------------\u001b[0m\n\u001b[1;31mTypeError\u001b[0m                                 Traceback (most recent call last)",
        "\u001b[1;32m<ipython-input-86-02ab921a51d2>\u001b[0m in \u001b[0;36m<module>\u001b[1;34m()\u001b[0m\n\u001b[0;32m     49\u001b[0m         \u001b[1;32mcontinue\u001b[0m\u001b[1;33m\u001b[0m\u001b[0m\n\u001b[0;32m     50\u001b[0m     \u001b[1;32mfor\u001b[0m \u001b[0mj\u001b[0m \u001b[1;32min\u001b[0m \u001b[0mxrange\u001b[0m\u001b[1;33m(\u001b[0m\u001b[0mi\u001b[0m\u001b[1;33m+\u001b[0m\u001b[1;36m1\u001b[0m\u001b[1;33m,\u001b[0m \u001b[0mlength\u001b[0m\u001b[1;33m)\u001b[0m\u001b[1;33m:\u001b[0m\u001b[1;33m\u001b[0m\u001b[0m\n\u001b[1;32m---> 51\u001b[1;33m         \u001b[1;32mif\u001b[0m \u001b[0mLevenshtein\u001b[0m\u001b[1;33m.\u001b[0m\u001b[0mratio\u001b[0m\u001b[1;33m(\u001b[0m\u001b[0mservice\u001b[0m\u001b[1;33m[\u001b[0m\u001b[0mi\u001b[0m\u001b[1;33m]\u001b[0m\u001b[1;33m[\u001b[0m\u001b[1;36m1\u001b[0m\u001b[1;33m]\u001b[0m\u001b[1;33m,\u001b[0m \u001b[0mservice\u001b[0m\u001b[1;33m[\u001b[0m\u001b[0mj\u001b[0m\u001b[1;33m]\u001b[0m\u001b[1;33m[\u001b[0m\u001b[1;36m1\u001b[0m\u001b[1;33m]\u001b[0m\u001b[1;33m)\u001b[0m \u001b[1;33m>\u001b[0m \u001b[1;36m0.7\u001b[0m\u001b[1;33m:\u001b[0m\u001b[1;33m\u001b[0m\u001b[0m\n\u001b[0m\u001b[0;32m     52\u001b[0m             \u001b[0mservice\u001b[0m\u001b[1;33m[\u001b[0m\u001b[0mi\u001b[0m\u001b[1;33m]\u001b[0m\u001b[1;33m[\u001b[0m\u001b[1;36m1\u001b[0m\u001b[1;33m]\u001b[0m \u001b[1;33m=\u001b[0m \u001b[1;34m\"%s , %s\"\u001b[0m \u001b[1;33m%\u001b[0m \u001b[1;33m(\u001b[0m\u001b[0mservice\u001b[0m\u001b[1;33m[\u001b[0m\u001b[0mi\u001b[0m\u001b[1;33m]\u001b[0m\u001b[1;33m[\u001b[0m\u001b[1;36m1\u001b[0m\u001b[1;33m]\u001b[0m\u001b[1;33m,\u001b[0m \u001b[0mservice\u001b[0m\u001b[1;33m[\u001b[0m\u001b[0mj\u001b[0m\u001b[1;33m]\u001b[0m\u001b[1;33m[\u001b[0m\u001b[1;36m1\u001b[0m\u001b[1;33m]\u001b[0m\u001b[1;33m)\u001b[0m\u001b[1;33m\u001b[0m\u001b[0m\n\u001b[0;32m     53\u001b[0m             \u001b[0mservice\u001b[0m\u001b[1;33m[\u001b[0m\u001b[0mj\u001b[0m\u001b[1;33m]\u001b[0m\u001b[1;33m[\u001b[0m\u001b[1;36m0\u001b[0m\u001b[1;33m]\u001b[0m \u001b[1;33m=\u001b[0m \u001b[1;36m1\u001b[0m\u001b[1;33m\u001b[0m\u001b[0m\n",
        "\u001b[1;31mTypeError\u001b[0m: ratio expected two Strings or two Unicodes"
       ]
      }
     ],
     "prompt_number": 86
    },
    {
     "cell_type": "code",
     "collapsed": false,
     "input": [
      "for f_item in files:\n",
      "    f_item.close()"
     ],
     "language": "python",
     "metadata": {},
     "outputs": []
    }
   ],
   "metadata": {}
  }
 ]
}