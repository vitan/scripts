{
 "metadata": {
  "name": ""
 },
 "nbformat": 3,
 "nbformat_minor": 0,
 "worksheets": [
  {
   "cells": [
    {
     "cell_type": "code",
     "collapsed": false,
     "input": [
      "import os\n",
      "from BeautifulSoup import BeautifulSoup\n",
      "import re\n",
      "\n",
      "outf = open('/home/weizhou/Projects/scripts/output/cr', 'w')\n",
      "cr = open('/home/weizhou/Projects/scripts/input/service/cr', 'r')\n",
      "top_dir = '/home/weizhou/Projects/scripts/input/cache/'\n",
      "\n",
      "pre = 'https://docs.engineering.redhat.com/display/KB/'\n",
      "\n",
      "service_code_reg = re.compile(r'(FS|CR|LB)-[\\d]{3}-[\\d]{2}-[\\d]{3}-v[\\d]{1}')\n",
      "\n",
      "#1\tEngineering Operations - CORE\n",
      "#2\tEngineering Operations - LAB\n",
      "#3\tEngineering Operations - FLS\n",
      "team_dict = {'CR': '1',\n",
      "             'LB': '2',\n",
      "             'FS': '3',\n",
      "             'CA': '4',\n",
      "             'SA': '5',\n",
      "             'SE': '6',\n",
      "             }"
     ],
     "language": "python",
     "metadata": {},
     "outputs": [],
     "prompt_number": 211
    },
    {
     "cell_type": "code",
     "collapsed": false,
     "input": [
      "cr_service_dict = dict()\n",
      "#cr service process\n",
      "for line in cr:\n",
      "    row_list = line.split('\\t')\n",
      "    #CR table format\n",
      "    #Service ID \\t Service Name \\t Codename \\t Functional Purpose\n",
      "    #As some boring dirty data, cleaned the data manully in advance.\n",
      "    if len(row_list) is not 4:\n",
      "        raise Exception('ERROR FORMAT', line)\n",
      "    if row_list[0].strip():\n",
      "        cr_service_dict[row_list[0].split('-')[1]] = row_list[1].strip()"
     ],
     "language": "python",
     "metadata": {},
     "outputs": [],
     "prompt_number": 212
    },
    {
     "cell_type": "code",
     "collapsed": false,
     "input": [
      "code_dict = dict()"
     ],
     "language": "python",
     "metadata": {},
     "outputs": [],
     "prompt_number": 213
    },
    {
     "cell_type": "code",
     "collapsed": false,
     "input": [
      "def extract_code(html_file, file_name):\n",
      "    with open(html_file) as inf:\n",
      "        content = inf.read()\n",
      "        \n",
      "    soup = BeautifulSoup(content)\n",
      "    data = soup.find('h3', text='Breakdown of tasks performed')\n",
      "    if data:\n",
      "        data = data.parent.nextSibling\n",
      "        while data:\n",
      "            if data.table:\n",
      "                break\n",
      "            data = data.nextSibling\n",
      "        \n",
      "        data = data.table\n",
      "        if not data:\n",
      "            print '%s%s has no service code' % (pre, file_name)\n",
      "            return\n",
      "\n",
      "        data =data.findAll('tr')\n",
      "        if len(data) <= 1:\n",
      "            print '%s%s has no service code' % (pre, file_name)\n",
      "            return\n",
      "    \n",
      "        for tr in data[1:]:\n",
      "            tds = tr.findAll('td')[0:2]\n",
      "            code_list = getattr(tds[0], 'text', None).split('-')\n",
      "            if len(code_list) >= 4:\n",
      "\n",
      "                if code_list[1] == 'SSS':\n",
      "                    print \"CODE ERROR:\", getattr(tds[0], 'text', None), ' FROM ', pre+file_name\n",
      "                    continue\n",
      "    \n",
      "                code_dict[getattr(tds[0], 'text', None)] = [getattr(tds[0], 'text', None),\n",
      "                                                            cr_service_dict[code_list[1]],\n",
      "                                                            team_dict[code_list[0]],\n",
      "                                                            code_list[3],\n",
      "                                                            getattr(tds[1], 'text', None),\n",
      "                                                            ]\n",
      "            else:\n",
      "                print \"CODE ERROR:\", getattr(tds[0], 'text', None), ' FROM ', pre+file_name\n",
      "    else:\n",
      "        print '%s%s has no service code' % (pre, file_name)"
     ],
     "language": "python",
     "metadata": {},
     "outputs": [],
     "prompt_number": 214
    },
    {
     "cell_type": "code",
     "collapsed": false,
     "input": [
      "for dir_path,subpaths,files in os.walk(top_dir,False):\n",
      "    for file in files:\n",
      "        file_path=os.path.join(dir_path,file)\n",
      "        extract_code(file_path, file)"
     ],
     "language": "python",
     "metadata": {},
     "outputs": [
      {
       "output_type": "stream",
       "stream": "stdout",
       "text": [
        "CODE ERROR: CISSSSTT  FROM  https://docs.engineering.redhat.com/display/KB/viewpage.action?pageId=15502269\n",
        "CODE ERROR:"
       ]
      },
      {
       "output_type": "stream",
       "stream": "stdout",
       "text": [
        " GG-SSS-TT-MMM-Vx  FROM  https://docs.engineering.redhat.com/display/KB/qpid\n",
        "CODE ERROR:   FROM  https://docs.engineering.redhat.com/display/KB/qpid\n",
        "CODE ERROR:   FROM  https://docs.engineering.redhat.com/display/KB/qpid\n",
        "https://docs.engineering.redhat.com/display/KB/Evergreen has no service code"
       ]
      },
      {
       "output_type": "stream",
       "stream": "stdout",
       "text": [
        "\n",
        "CODE ERROR:"
       ]
      },
      {
       "output_type": "stream",
       "stream": "stdout",
       "text": [
        " GG-SSS-TT-MMM-Vx  FROM  https://docs.engineering.redhat.com/display/KB/HssPulp\n",
        "CODE ERROR: 1  FROM  https://docs.engineering.redhat.com/display/KB/HssPulp\n",
        "CODE ERROR: 2  FROM  https://docs.engineering.redhat.com/display/KB/HssPulp\n",
        "https://docs.engineering.redhat.com/display/KB/Conflux has no service code"
       ]
      },
      {
       "output_type": "stream",
       "stream": "stdout",
       "text": [
        "\n",
        "CODE ERROR:"
       ]
      },
      {
       "output_type": "stream",
       "stream": "stdout",
       "text": [
        " CR-007-01  FROM  https://docs.engineering.redhat.com/display/KB/Shell+Servers\n",
        "CODE ERROR:"
       ]
      },
      {
       "output_type": "stream",
       "stream": "stdout",
       "text": [
        " ???  FROM  https://docs.engineering.redhat.com/display/KB/RHCS+HA+clusters\n",
        "CODE ERROR: ???  FROM  https://docs.engineering.redhat.com/display/KB/RHCS+HA+clusters\n",
        "CODE ERROR: ???  FROM  https://docs.engineering.redhat.com/display/KB/RHCS+HA+clusters\n",
        "CODE ERROR:"
       ]
      },
      {
       "output_type": "stream",
       "stream": "stdout",
       "text": [
        " CR-009-01  FROM  https://docs.engineering.redhat.com/display/KB/viewpage.action?pageId=15502244\n",
        "https://docs.engineering.redhat.com/display/KB/STEP has no service code"
       ]
      },
      {
       "output_type": "stream",
       "stream": "stdout",
       "text": [
        "\n",
        "CODE ERROR:"
       ]
      },
      {
       "output_type": "stream",
       "stream": "stdout",
       "text": [
        " GG-SSS-TT-MMM-Vx  FROM  https://docs.engineering.redhat.com/display/KB/download+and+rsyncd\n",
        "https://docs.engineering.redhat.com/display/KB/DarkSteel has no service code"
       ]
      },
      {
       "output_type": "stream",
       "stream": "stdout",
       "text": [
        "\n",
        "https://docs.engineering.redhat.com/display/KB/MWC+SMTP has no service code"
       ]
      },
      {
       "output_type": "stream",
       "stream": "stdout",
       "text": [
        "\n"
       ]
      }
     ],
     "prompt_number": 215
    },
    {
     "cell_type": "code",
     "collapsed": false,
     "input": [
      "outf.write('\\n'.join(['|'.join(item) for item in code_dict.values()]))\n",
      "outf.close()"
     ],
     "language": "python",
     "metadata": {},
     "outputs": [],
     "prompt_number": 216
    }
   ],
   "metadata": {}
  }
 ]
}