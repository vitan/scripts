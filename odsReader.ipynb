{
 "metadata": {
  "name": ""
 },
 "nbformat": 3,
 "nbformat_minor": 0,
 "worksheets": [
  {
   "cells": [
    {
     "cell_type": "code",
     "collapsed": false,
     "input": [
      "# Copyright 2011 Marco Conti\n",
      "\n",
      "# Licensed under the Apache License, Version 2.0 (the \"License\");\n",
      "# you may not use this file except in compliance with the License.\n",
      "# You may obtain a copy of the License at\n",
      "\n",
      "# \thttp://www.apache.org/licenses/LICENSE-2.0\n",
      "\n",
      "# Unless required by applicable law or agreed to in writing, software\n",
      "# distributed under the License is distributed on an \"AS IS\" BASIS,\n",
      "# WITHOUT WARRANTIES OR CONDITIONS OF ANY KIND, either express or implied.\n",
      "# See the License for the specific language governing permissions and\n",
      "# limitations under the License.\n",
      "\n",
      "# Thanks to grt for the fixes\n",
      "\n",
      "import odf.opendocument\n",
      "from odf.table import *\n",
      "from odf.text import P\n",
      "\n",
      "class ODSReader:\n",
      "\n",
      "\t# loads the file\n",
      "\tdef __init__(self, file):\n",
      "\t\tself.doc = odf.opendocument.load(file)\n",
      "\t\tself.SHEETS = {}\n",
      "\t\tfor sheet in self.doc.spreadsheet.getElementsByType(Table):\n",
      "\t\t\tself.readSheet(sheet)\n",
      "\t\n",
      "\n",
      "\t# reads a sheet in the sheet dictionary, storing each sheet as an array (rows) of arrays (columns)\n",
      "\tdef readSheet(self, sheet):\n",
      "\t\tname = sheet.getAttribute(\"name\")\n",
      "\t\trows = sheet.getElementsByType(TableRow)\n",
      "\t\tarrRows = []\n",
      "\t\t\n",
      "\t\t# for each row\n",
      "\t\tfor row in rows:\n",
      "\t\t\trow_comment = \"\"\n",
      "\t\t\tarrCells = []\n",
      "\t\t\tcells = row.getElementsByType(TableCell)\n",
      "\t\t\t\n",
      "\t\t\t# for each cell\n",
      "\t\t\tfor cell in cells:\n",
      "\t\t\t\t# repeated value?\n",
      "\t\t\t\trepeat = cell.getAttribute(\"numbercolumnsrepeated\")\n",
      "\t\t\t\tif(not repeat):\n",
      "\t\t\t\t\trepeat = 1\n",
      "\t\t\t\t\t\n",
      "\t\t\t\tps = cell.getElementsByType(P)\n",
      "\t\t\t\ttextContent = \"\"\n",
      "\t\t\t\t\t\t\t\t\n",
      "\t\t\t\t# for each text node\n",
      "\t\t\t\tfor p in ps:\n",
      "\t\t\t\t\tfor n in p.childNodes:\n",
      "\t\t\t\t\t\tif (n.nodeType == 3):\n",
      "\t\t\t\t\t\t\ttextContent = textContent + unicode(n.data)\n",
      "\t\t\t\t\t\n",
      "\t\t\t\tif(textContent):\n",
      "\t\t\t\t\tif(textContent[0] != \"#\"): # ignore comments cells\n",
      "\t\t\t\t\t\tfor rr in range(int(repeat)): # repeated?\n",
      "\t\t\t\t\t\t\tarrCells.append(textContent)\n",
      "\t\t\t\t\t\t\n",
      "\t\t\t\t\telse:\n",
      "\t\t\t\t\t\trow_comment = row_comment + textContent + \" \";\n",
      "\t\t\t\t\t\t\n",
      "\t\t\t# if row contained something\n",
      "\t\t\tif(len(arrCells)):\n",
      "\t\t\t\tarrRows.append(arrCells)\n",
      "\t\t\t\t\n",
      "\t\t\t#else:\n",
      "\t\t\t#\tprint \"Empty or commented row (\", row_comment, \")\"\n",
      "\t\t\n",
      "\t\tself.SHEETS[name] = arrRows\n",
      "\t\t\n",
      "\t# returns a sheet as an array (rows) of arrays (columns)\n",
      "\tdef getSheet(self, name):\n",
      "\t\treturn self.SHEETS[name]"
     ],
     "language": "python",
     "metadata": {},
     "outputs": [],
     "prompt_number": 5
    },
    {
     "cell_type": "code",
     "collapsed": false,
     "input": [
      "doc = ODSReader(\"testods.ods\")\n",
      "table = doc.getSheet(\"Sheet1\")\n",
      "firstRow = table[0]\n",
      "firstCellOfFirstRow = firstRow[0]"
     ],
     "language": "python",
     "metadata": {},
     "outputs": [],
     "prompt_number": 6
    },
    {
     "cell_type": "code",
     "collapsed": false,
     "input": [
      "print firstCellOfFirstRow"
     ],
     "language": "python",
     "metadata": {},
     "outputs": [
      {
       "output_type": "stream",
       "stream": "stdout",
       "text": [
        "adfadsf\n"
       ]
      }
     ],
     "prompt_number": 7
    }
   ],
   "metadata": {}
  }
 ]
}