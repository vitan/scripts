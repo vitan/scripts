{
 "metadata": {
  "name": ""
 },
 "nbformat": 3,
 "nbformat_minor": 0,
 "worksheets": [
  {
   "cells": [
    {
     "cell_type": "code",
     "collapsed": false,
     "input": [
      "#extract service id, name&url(if available)\n",
      "from BeautifulSoup import BeautifulSoup\n",
      "\n",
      "with open('/home/weizhou/Projects/scripts/input/service/service-cleaned-up.html', 'r') as inf:\n",
      "    content = inf.read()\n",
      "soup = BeautifulSoup(content)\n",
      "service = list()\n",
      "\n",
      "for tr in soup.findAll('tr'):\n",
      "    tr_td_p_a = tr.contents[1].p.a\n",
      "    item = [getattr(tr.contents[0].p, 'text', 'NULL')]\n",
      "    if tr_td_p_a is not None:\n",
      "        item.extend([getattr(tr_td_p_a,  'text', 'NULL'),\n",
      "                    tr_td_p_a['href']]\n",
      "                    )\n",
      "    else:\n",
      "        item.extend([getattr(tr.contents[1].p, 'text', 'NULL'),\n",
      "                     'NULL'] \n",
      "                    )\n",
      "    service.append(item)"
     ],
     "language": "python",
     "metadata": {},
     "outputs": [
      {
       "ename": "IOError",
       "evalue": "[Errno 2] No such file or directory: '/home/weizhou/Projects/scripts/input/service/service-cleaned-up.html'",
       "output_type": "pyerr",
       "traceback": [
        "\u001b[1;31m---------------------------------------------------------------------------\u001b[0m\n\u001b[1;31mIOError\u001b[0m                                   Traceback (most recent call last)",
        "\u001b[1;32m<ipython-input-3-fe54580b944e>\u001b[0m in \u001b[0;36m<module>\u001b[1;34m()\u001b[0m\n\u001b[0;32m      2\u001b[0m \u001b[1;32mfrom\u001b[0m \u001b[0mBeautifulSoup\u001b[0m \u001b[1;32mimport\u001b[0m \u001b[0mBeautifulSoup\u001b[0m\u001b[1;33m\u001b[0m\u001b[0m\n\u001b[0;32m      3\u001b[0m \u001b[1;33m\u001b[0m\u001b[0m\n\u001b[1;32m----> 4\u001b[1;33m \u001b[1;32mwith\u001b[0m \u001b[0mopen\u001b[0m\u001b[1;33m(\u001b[0m\u001b[1;34m'/home/weizhou/Projects/scripts/input/service/service-cleaned-up.html'\u001b[0m\u001b[1;33m,\u001b[0m \u001b[1;34m'r'\u001b[0m\u001b[1;33m)\u001b[0m \u001b[1;32mas\u001b[0m \u001b[0minf\u001b[0m\u001b[1;33m:\u001b[0m\u001b[1;33m\u001b[0m\u001b[0m\n\u001b[0m\u001b[0;32m      5\u001b[0m     \u001b[0mcontent\u001b[0m \u001b[1;33m=\u001b[0m \u001b[0minf\u001b[0m\u001b[1;33m.\u001b[0m\u001b[0mread\u001b[0m\u001b[1;33m(\u001b[0m\u001b[1;33m)\u001b[0m\u001b[1;33m\u001b[0m\u001b[0m\n\u001b[0;32m      6\u001b[0m \u001b[0msoup\u001b[0m \u001b[1;33m=\u001b[0m \u001b[0mBeautifulSoup\u001b[0m\u001b[1;33m(\u001b[0m\u001b[0mcontent\u001b[0m\u001b[1;33m)\u001b[0m\u001b[1;33m\u001b[0m\u001b[0m\n",
        "\u001b[1;31mIOError\u001b[0m: [Errno 2] No such file or directory: '/home/weizhou/Projects/scripts/input/service/service-cleaned-up.html'"
       ]
      }
     ],
     "prompt_number": 3
    },
    {
     "cell_type": "code",
     "collapsed": false,
     "input": [
      "#extract team id, name&url(if available)\n",
      "team = [['1', 'Engineering Operations - CORE', 'CR', '680', 'https://people.engineering.redhat.com/orgchart?next_page=group&id=680' ],\n",
      "        ['2', 'Engineering Operations - LAB', 'LB', '679', 'https://people.engineering.redhat.com/orgchart?next_page=group&id=679'],\n",
      "        ['3', 'Engineering Operations - FLS', 'FS', '678', 'https://people.engineering.redhat.com/orgchart?next_page=group&id=678'],\n",
      "        ['4', 'Engineering Operations - Cloud Architect', 'CA', '683', 'https://people.engineering.redhat.com/orgchart?next_page=group&id=683'],\n",
      "        ['5', 'Engineering Operations - Solution Architect', 'SA', '682', 'https://people.engineering.redhat.com/orgchart?next_page=group&id=682'],\n",
      "        ['6', 'Engineering Operations - Systems Engineering', 'SE', '681', 'https://people.engineering.redhat.com/orgchart?next_page=group&id=681'],\n",
      "        ]"
     ],
     "language": "python",
     "metadata": {},
     "outputs": [],
     "prompt_number": 4
    },
    {
     "cell_type": "code",
     "collapsed": false,
     "input": [
      "#extract task id, name, team id, category id, spent_time&details\n",
      "#Warning: here will ingore some missing-info data\n",
      "with open('/home/weizhou/Projects/scripts/input/task/task-cleaned-up.html', 'r') as inf:\n",
      "    content = inf.read()\n",
      "soup = BeautifulSoup(content)\n",
      "task = list()\n",
      "\n",
      "for tr in soup.findAll('tr'):\n",
      "    #skip out team_id = 'NA'\n",
      "    if getattr(tr.contents[2].p, 'text') == 'NA':\n",
      "        continue\n",
      "    tr_td_p_a = tr.contents[5].p.a\n",
      "    item = [getattr(tr.contents[i].p, 'text', 'NULL') for i in xrange(5)]\n",
      "    item.append('[link to confluence page](' + tr_td_p_a['href']+')' if tr_td_p_a is not None else 'NULL')\n",
      "\n",
      "    task.append(item)"
     ],
     "language": "python",
     "metadata": {},
     "outputs": [],
     "prompt_number": 5
    },
    {
     "cell_type": "code",
     "collapsed": false,
     "input": [
      "#import data into DB\n",
      "from mysql import connector\n",
      "import time\n",
      "\n",
      "now = time.strftime(\"%Y-%m-%d %H:%M:%S\")\n",
      "try:\n",
      "    conn = connector.Connect(host='localhost',user='root',passwd='',db='SC',port=3306, charset=\"utf8\")\n",
      "    cur = conn.cursor()\n",
      "\n",
      "    #insert some superusers\n",
      "    cur.execute('DELETE FROM auth_user;')\n",
      "                #id, pw, is_super, username, is_staff, is_active\n",
      "    superusers = [['1', '!', '1', 'weizhou', '1', '1', now, now],\n",
      "                  ['2', '!', '1', 'hlin', '1', '1', now, now],\n",
      "                  ['3', '!', '1', 'qduanmu', '1', '1', now, now],\n",
      "                  ['4', '!', '1', 'qiyang', '1', '1', now, now],\n",
      "                  ['5', '!', '1', 'ryang', '1', '1', now, now],\n",
      "                  ['6', '!', '1', 'vgrinco', '1', '1', now, now],\n",
      "                  ['7', '!', '1', 'jskeoch', '1', '1', now, now],\n",
      "                  ['8', '!', '1', 'jnicolet', '1', '1', now, now],\n",
      "                  ['9', '!', '1', 'llim', '1', '1', now, now],\n",
      "                  ['10', '!', '1', 'swei', '1', '1', now, now],\n",
      "                  ]\n",
      "    user_query = \"INSERT INTO auth_user (id, password, is_superuser, username, is_staff, is_active, last_login, date_joined)\\\n",
      "                    VALUES (%s, %s, %s, %s, %s, %s, %s, %s)\"\n",
      "    cur.executemany(user_query, superusers)\n",
      "    \n",
      "    cur.execute('DELETE FROM catalog_task;')\n",
      "    cur.execute('DELETE FROM catalog_team;')\n",
      "    cur.execute('DELETE FROM catalog_category;')\n",
      "    #cur.commit()\n",
      "\n",
      "    #insert category\n",
      "    for item in service:\n",
      "        item.extend([now, now, 1])\n",
      "    \n",
      "    catalog_query = \"INSERT INTO catalog_category (id, name, description, created_on, updated_on, available)\\\n",
      "                    VALUES (%s, %s, %s, %s, %s, %s)\"    \n",
      "    cur.executemany(catalog_query, service)\n",
      "    \n",
      "    #insert team\n",
      "    for item in team:\n",
      "        item.extend([now, now, 1])\n",
      "    team_query = \"INSERT INTO catalog_team (id, name, abbr, gid, description, created_on, updated_on, available) VALUES (%s, %s, %s, %s, %s, %s, %s, %s)\"\n",
      "    cur.executemany(team_query, team)\n",
      "    \n",
      "    #insert task\n",
      "    for item in task:\n",
      "        item.extend([now, now, 1, 1])\n",
      "    task_query = \"INSERT INTO catalog_task (id, category_id, team_id, spend_time, name, details, created_on, updated_on, available, latest_version) \\\n",
      "                 VALUES (%s, %s, %s, %s, %s, %s, %s, %s, %s, %s)\"\n",
      "    cur.executemany(task_query, task)\n",
      "    \n",
      "    conn.commit()\n",
      "    cur.close()\n",
      "    conn.close()\n",
      "except connector.errors ,e:\n",
      "     print \"Mysql Error %d: %s\" % (e.args[0], e.args[1])"
     ],
     "language": "python",
     "metadata": {},
     "outputs": [
      {
       "ename": "NameError",
       "evalue": "name 'service' is not defined",
       "output_type": "pyerr",
       "traceback": [
        "\u001b[1;31m---------------------------------------------------------------------------\u001b[0m\n\u001b[1;31mNameError\u001b[0m                                 Traceback (most recent call last)",
        "\u001b[1;32m<ipython-input-6-4a44bc804fe2>\u001b[0m in \u001b[0;36m<module>\u001b[1;34m()\u001b[0m\n\u001b[0;32m     31\u001b[0m \u001b[1;33m\u001b[0m\u001b[0m\n\u001b[0;32m     32\u001b[0m     \u001b[1;31m#insert category\u001b[0m\u001b[1;33m\u001b[0m\u001b[1;33m\u001b[0m\u001b[0m\n\u001b[1;32m---> 33\u001b[1;33m     \u001b[1;32mfor\u001b[0m \u001b[0mitem\u001b[0m \u001b[1;32min\u001b[0m \u001b[0mservice\u001b[0m\u001b[1;33m:\u001b[0m\u001b[1;33m\u001b[0m\u001b[0m\n\u001b[0m\u001b[0;32m     34\u001b[0m         \u001b[0mitem\u001b[0m\u001b[1;33m.\u001b[0m\u001b[0mextend\u001b[0m\u001b[1;33m(\u001b[0m\u001b[1;33m[\u001b[0m\u001b[0mnow\u001b[0m\u001b[1;33m,\u001b[0m \u001b[0mnow\u001b[0m\u001b[1;33m,\u001b[0m \u001b[1;36m1\u001b[0m\u001b[1;33m]\u001b[0m\u001b[1;33m)\u001b[0m\u001b[1;33m\u001b[0m\u001b[0m\n\u001b[0;32m     35\u001b[0m \u001b[1;33m\u001b[0m\u001b[0m\n",
        "\u001b[1;31mNameError\u001b[0m: name 'service' is not defined"
       ]
      }
     ],
     "prompt_number": 6
    },
    {
     "cell_type": "code",
     "collapsed": false,
     "input": [],
     "language": "python",
     "metadata": {},
     "outputs": []
    }
   ],
   "metadata": {}
  }
 ]
}