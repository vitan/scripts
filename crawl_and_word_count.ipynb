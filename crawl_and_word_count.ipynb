{
 "metadata": {
  "name": "crawl_and_word_count"
 },
 "nbformat": 3,
 "nbformat_minor": 0,
 "worksheets": [
  {
   "cells": [
    {
     "cell_type": "code",
     "collapsed": false,
     "input": [
      "#!/usr/bin/env python\n",
      "# Written by Weitao Zhou <zhouwtlord@gmail.com>\n",
      "\n",
      "import urllib2\n",
      "try:\n",
      "    response = urllib2.urlopen('http://www.gutenberg.org/files/44063/44063-0.txt')\n",
      "    html = response.read()\n",
      "except urllib2.HTTPError, error:\n",
      "    pass\n",
      "\n",
      "import re\n",
      "\n",
      "#re_pattern = r'[\\w]{1,}'\n",
      "re_pattern = r'[a-zA-Z0-9]{1,}'\n",
      "\n",
      "class WordCount(object):\n",
      "    \n",
      "    def __init__(self, text, re_pattern):\n",
      "        self.text = text\n",
      "        self.re_pattern = re_pattern\n",
      "        self. word_count = dict()\n",
      "        \n",
      "    def pre_process(self):\n",
      "        # Pre process the inputted Text:\n",
      "        # 1. remove punctuation; 2. lower case;\n",
      "        # Note: Given interview deadline, here I didn't involve tokenize, stemming, stopwords and other NLP pre-process methods\n",
      "        word_list = self._remove_punctuation()\n",
      "        return self._lower_case(word_list)\n",
      "    \n",
      "    def _remove_punctuation(self):\n",
      "        word_list = re.findall(self.re_pattern, self.text)\n",
      "        return word_list\n",
      "    \n",
      "    def _lower_case(self, word_list):\n",
      "        return [word.lower() for word in word_list]\n",
      "    \n",
      "    def count(self):\n",
      "        word_list = self.pre_process()\n",
      "        for word in word_list:\n",
      "            self.word_count[word] = self.word_count.get(word, 0) + 1\n",
      "\n",
      "WD = WordCount(html, re_pattern)\n",
      "WD.count()\n",
      "print WD.word_count"
     ],
     "language": "python",
     "metadata": {},
     "outputs": [],
     "prompt_number": 1
    }
   ],
   "metadata": {}
  }
 ]
}